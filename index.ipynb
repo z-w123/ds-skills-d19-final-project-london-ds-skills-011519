{
 "cells": [
  {
   "cell_type": "markdown",
   "metadata": {},
   "source": [
    "# Project Time!\n",
    "\n",
    "It's time to continue working on your final project. This is the second to last class, and the last opportunity to work on the project in class. During the final class, you will share your work with other students and your teacher. As a reminder, here's the general project rubric to guide you:  \n",
    "\n",
    "<img src=\"final_project_rubric.png\">  \n",
    "\n",
    "Be sure to start with an exploratory data analysis of your dataset before going on to build a model for your project!"
   ]
  }
 ],
 "metadata": {
  "kernelspec": {
   "display_name": "Python 3",
   "language": "python",
   "name": "python3"
  },
  "language_info": {
   "codemirror_mode": {
    "name": "ipython",
    "version": 3
   },
   "file_extension": ".py",
   "mimetype": "text/x-python",
   "name": "python",
   "nbconvert_exporter": "python",
   "pygments_lexer": "ipython3",
   "version": "3.6.9"
  }
 },
 "nbformat": 4,
 "nbformat_minor": 2
}
